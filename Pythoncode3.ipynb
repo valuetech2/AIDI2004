{
 "cells": [
  {
   "cell_type": "markdown",
   "id": "cb1cd651",
   "metadata": {},
   "source": [
    "# This is my first class at cephas"
   ]
  },
  {
   "cell_type": "code",
   "execution_count": 1,
   "id": "49e1ba44",
   "metadata": {},
   "outputs": [
    {
     "name": "stdout",
     "output_type": "stream",
     "text": [
      "Hello world\n"
     ]
    }
   ],
   "source": [
    "print('Hello world')"
   ]
  },
  {
   "cell_type": "code",
   "execution_count": 1,
   "id": "ac8d5aaf",
   "metadata": {},
   "outputs": [],
   "source": [
    "items = \"pencil, pen, ruler\""
   ]
  },
  {
   "cell_type": "code",
   "execution_count": 2,
   "id": "f9059a52",
   "metadata": {},
   "outputs": [
    {
     "data": {
      "text/plain": [
       "'pencil, pen, ruler'"
      ]
     },
     "execution_count": 2,
     "metadata": {},
     "output_type": "execute_result"
    }
   ],
   "source": [
    " items"
   ]
  },
  {
   "cell_type": "code",
   "execution_count": 3,
   "id": "7ef96f4f",
   "metadata": {},
   "outputs": [],
   "source": [
    "#This is a comment\n",
    "#This is a comment, too.\n",
    "#This is a comment, too.\n",
    "#I said that already"
   ]
  },
  {
   "cell_type": "code",
   "execution_count": null,
   "id": "2d4ebb70",
   "metadata": {},
   "outputs": [],
   "source": [
    "res = input ('Enter your name: ')"
   ]
  },
  {
   "cell_type": "code",
   "execution_count": null,
   "id": "329e1698",
   "metadata": {},
   "outputs": [],
   "source": []
  },
  {
   "cell_type": "code",
   "execution_count": 2,
   "id": "d76156e9",
   "metadata": {},
   "outputs": [
    {
     "name": "stdout",
     "output_type": "stream",
     "text": [
      "100\n",
      "1000.0\n",
      "Value\n"
     ]
    }
   ],
   "source": [
    "counter = 100 # An integer assignment\n",
    "miles = 1000.0 # A floating point\n",
    "name = \"Value\" # A string\n",
    "\n",
    "print(counter)\n",
    "print (miles)\n",
    "print (name)"
   ]
  },
  {
   "cell_type": "code",
   "execution_count": 1,
   "id": "6649f106",
   "metadata": {},
   "outputs": [],
   "source": [
    "a=b=c=1"
   ]
  },
  {
   "cell_type": "code",
   "execution_count": 1,
   "id": "4edcd5af",
   "metadata": {},
   "outputs": [],
   "source": [
    "a=1\n",
    "b=1\n",
    "c=1"
   ]
  },
  {
   "cell_type": "code",
   "execution_count": 2,
   "id": "89e5b669",
   "metadata": {},
   "outputs": [],
   "source": [
    "john,ade,olu = \"fish\",\"bread\",\"water\""
   ]
  },
  {
   "cell_type": "code",
   "execution_count": 3,
   "id": "0c9f72ea",
   "metadata": {},
   "outputs": [
    {
     "data": {
      "text/plain": [
       "'fish'"
      ]
     },
     "execution_count": 3,
     "metadata": {},
     "output_type": "execute_result"
    }
   ],
   "source": [
    "john"
   ]
  },
  {
   "cell_type": "code",
   "execution_count": 4,
   "id": "2eb93d67",
   "metadata": {},
   "outputs": [
    {
     "data": {
      "text/plain": [
       "'bread'"
      ]
     },
     "execution_count": 4,
     "metadata": {},
     "output_type": "execute_result"
    }
   ],
   "source": [
    "ade"
   ]
  },
  {
   "cell_type": "code",
   "execution_count": 5,
   "id": "c1d84e52",
   "metadata": {},
   "outputs": [
    {
     "data": {
      "text/plain": [
       "'water'"
      ]
     },
     "execution_count": 5,
     "metadata": {},
     "output_type": "execute_result"
    }
   ],
   "source": [
    "olu"
   ]
  },
  {
   "cell_type": "code",
   "execution_count": null,
   "id": "53f71e76",
   "metadata": {},
   "outputs": [],
   "source": []
  }
 ],
 "metadata": {
  "kernelspec": {
   "display_name": "Python 3 (ipykernel)",
   "language": "python",
   "name": "python3"
  },
  "language_info": {
   "codemirror_mode": {
    "name": "ipython",
    "version": 3
   },
   "file_extension": ".py",
   "mimetype": "text/x-python",
   "name": "python",
   "nbconvert_exporter": "python",
   "pygments_lexer": "ipython3",
   "version": "3.9.12"
  }
 },
 "nbformat": 4,
 "nbformat_minor": 5
}
